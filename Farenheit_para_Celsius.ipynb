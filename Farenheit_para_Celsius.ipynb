{
  "nbformat": 4,
  "nbformat_minor": 0,
  "metadata": {
    "colab": {
      "provenance": [],
      "authorship_tag": "ABX9TyMSAOwE+9S0z1Wbk/s9Uzgi",
      "include_colab_link": true
    },
    "kernelspec": {
      "name": "python3",
      "display_name": "Python 3"
    },
    "language_info": {
      "name": "python"
    }
  },
  "cells": [
    {
      "cell_type": "markdown",
      "metadata": {
        "id": "view-in-github",
        "colab_type": "text"
      },
      "source": [
        "<a href=\"https://colab.research.google.com/github/Bruno-sla/ALTERNATE-REPOSITORY/blob/main/Farenheit_para_Celsius.ipynb\" target=\"_parent\"><img src=\"https://colab.research.google.com/assets/colab-badge.svg\" alt=\"Open In Colab\"/></a>"
      ]
    },
    {
      "cell_type": "code",
      "source": [],
      "metadata": {
        "id": "Cb2A7txqxV3X"
      },
      "execution_count": null,
      "outputs": []
    },
    {
      "cell_type": "markdown",
      "source": [],
      "metadata": {
        "id": "tHFj5vQaxUfu"
      }
    },
    {
      "cell_type": "code",
      "execution_count": 2,
      "metadata": {
        "colab": {
          "base_uri": "https://localhost:8080/"
        },
        "id": "6yshV3qlv1nG",
        "outputId": "97632cc9-2667-4de5-e955-a9daff091226"
      },
      "outputs": [
        {
          "output_type": "stream",
          "name": "stdout",
          "text": [
            "Temperatura em Farenheit: 89\n",
            "A temperatura em Celsius é: 31.67\n"
          ]
        }
      ],
      "source": [
        "fahrenheit = float(input(\"Temperatura em Farenheit: \"))\n",
        "celsius = (5/9) * (fahrenheit - 32)\n",
        "print(f\"A temperatura em Celsius é: {celsius:.2f}\")"
      ]
    }
  ]
}